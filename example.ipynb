{
 "cells": [
  {
   "cell_type": "code",
   "execution_count": 1,
   "metadata": {},
   "outputs": [],
   "source": [
    "import warnings\n",
    "warnings.filterwarnings('ignore')\n",
    "\n",
    "import numpy as np\n",
    "import pandas as pd\n",
    "pd.set_option('display.max_colwidth', None)"
   ]
  },
  {
   "cell_type": "code",
   "execution_count": 2,
   "metadata": {},
   "outputs": [],
   "source": [
    "random_seed = 76"
   ]
  },
  {
   "source": [
    "## Sample Data"
   ],
   "cell_type": "markdown",
   "metadata": {}
  },
  {
   "cell_type": "code",
   "execution_count": 3,
   "metadata": {},
   "outputs": [],
   "source": [
    "df = pd.read_csv(\"datasets/FIFA 2018 Statistics.csv\")"
   ]
  },
  {
   "cell_type": "code",
   "execution_count": 4,
   "metadata": {},
   "outputs": [
    {
     "output_type": "execute_result",
     "data": {
      "text/plain": [
       "         Date          Team      Opponent  Goal Scored  Ball Possession %  \\\n",
       "0  14-06-2018        Russia  Saudi Arabia            5                 40   \n",
       "1  14-06-2018  Saudi Arabia        Russia            0                 60   \n",
       "2  15-06-2018         Egypt       Uruguay            0                 43   \n",
       "3  15-06-2018       Uruguay         Egypt            1                 57   \n",
       "4  15-06-2018       Morocco          Iran            0                 64   \n",
       "\n",
       "   Attempts  On-Target  Off-Target  Blocked  Corners  ...  Yellow Card  \\\n",
       "0        13          7           3        3        6  ...            0   \n",
       "1         6          0           3        3        2  ...            0   \n",
       "2         8          3           3        2        0  ...            2   \n",
       "3        14          4           6        4        5  ...            0   \n",
       "4        13          3           6        4        5  ...            1   \n",
       "\n",
       "   Yellow & Red  Red  Man of the Match  1st Goal        Round  PSO  \\\n",
       "0             0    0               Yes      12.0  Group Stage   No   \n",
       "1             0    0                No       NaN  Group Stage   No   \n",
       "2             0    0                No       NaN  Group Stage   No   \n",
       "3             0    0               Yes      89.0  Group Stage   No   \n",
       "4             0    0                No       NaN  Group Stage   No   \n",
       "\n",
       "   Goals in PSO  Own goals  Own goal Time  \n",
       "0             0        NaN            NaN  \n",
       "1             0        NaN            NaN  \n",
       "2             0        NaN            NaN  \n",
       "3             0        NaN            NaN  \n",
       "4             0        1.0           90.0  \n",
       "\n",
       "[5 rows x 27 columns]"
      ],
      "text/html": "<div>\n<style scoped>\n    .dataframe tbody tr th:only-of-type {\n        vertical-align: middle;\n    }\n\n    .dataframe tbody tr th {\n        vertical-align: top;\n    }\n\n    .dataframe thead th {\n        text-align: right;\n    }\n</style>\n<table border=\"1\" class=\"dataframe\">\n  <thead>\n    <tr style=\"text-align: right;\">\n      <th></th>\n      <th>Date</th>\n      <th>Team</th>\n      <th>Opponent</th>\n      <th>Goal Scored</th>\n      <th>Ball Possession %</th>\n      <th>Attempts</th>\n      <th>On-Target</th>\n      <th>Off-Target</th>\n      <th>Blocked</th>\n      <th>Corners</th>\n      <th>...</th>\n      <th>Yellow Card</th>\n      <th>Yellow &amp; Red</th>\n      <th>Red</th>\n      <th>Man of the Match</th>\n      <th>1st Goal</th>\n      <th>Round</th>\n      <th>PSO</th>\n      <th>Goals in PSO</th>\n      <th>Own goals</th>\n      <th>Own goal Time</th>\n    </tr>\n  </thead>\n  <tbody>\n    <tr>\n      <th>0</th>\n      <td>14-06-2018</td>\n      <td>Russia</td>\n      <td>Saudi Arabia</td>\n      <td>5</td>\n      <td>40</td>\n      <td>13</td>\n      <td>7</td>\n      <td>3</td>\n      <td>3</td>\n      <td>6</td>\n      <td>...</td>\n      <td>0</td>\n      <td>0</td>\n      <td>0</td>\n      <td>Yes</td>\n      <td>12.0</td>\n      <td>Group Stage</td>\n      <td>No</td>\n      <td>0</td>\n      <td>NaN</td>\n      <td>NaN</td>\n    </tr>\n    <tr>\n      <th>1</th>\n      <td>14-06-2018</td>\n      <td>Saudi Arabia</td>\n      <td>Russia</td>\n      <td>0</td>\n      <td>60</td>\n      <td>6</td>\n      <td>0</td>\n      <td>3</td>\n      <td>3</td>\n      <td>2</td>\n      <td>...</td>\n      <td>0</td>\n      <td>0</td>\n      <td>0</td>\n      <td>No</td>\n      <td>NaN</td>\n      <td>Group Stage</td>\n      <td>No</td>\n      <td>0</td>\n      <td>NaN</td>\n      <td>NaN</td>\n    </tr>\n    <tr>\n      <th>2</th>\n      <td>15-06-2018</td>\n      <td>Egypt</td>\n      <td>Uruguay</td>\n      <td>0</td>\n      <td>43</td>\n      <td>8</td>\n      <td>3</td>\n      <td>3</td>\n      <td>2</td>\n      <td>0</td>\n      <td>...</td>\n      <td>2</td>\n      <td>0</td>\n      <td>0</td>\n      <td>No</td>\n      <td>NaN</td>\n      <td>Group Stage</td>\n      <td>No</td>\n      <td>0</td>\n      <td>NaN</td>\n      <td>NaN</td>\n    </tr>\n    <tr>\n      <th>3</th>\n      <td>15-06-2018</td>\n      <td>Uruguay</td>\n      <td>Egypt</td>\n      <td>1</td>\n      <td>57</td>\n      <td>14</td>\n      <td>4</td>\n      <td>6</td>\n      <td>4</td>\n      <td>5</td>\n      <td>...</td>\n      <td>0</td>\n      <td>0</td>\n      <td>0</td>\n      <td>Yes</td>\n      <td>89.0</td>\n      <td>Group Stage</td>\n      <td>No</td>\n      <td>0</td>\n      <td>NaN</td>\n      <td>NaN</td>\n    </tr>\n    <tr>\n      <th>4</th>\n      <td>15-06-2018</td>\n      <td>Morocco</td>\n      <td>Iran</td>\n      <td>0</td>\n      <td>64</td>\n      <td>13</td>\n      <td>3</td>\n      <td>6</td>\n      <td>4</td>\n      <td>5</td>\n      <td>...</td>\n      <td>1</td>\n      <td>0</td>\n      <td>0</td>\n      <td>No</td>\n      <td>NaN</td>\n      <td>Group Stage</td>\n      <td>No</td>\n      <td>0</td>\n      <td>1.0</td>\n      <td>90.0</td>\n    </tr>\n  </tbody>\n</table>\n<p>5 rows × 27 columns</p>\n</div>"
     },
     "metadata": {},
     "execution_count": 4
    }
   ],
   "source": [
    "df.head()"
   ]
  },
  {
   "source": [
    "## Data Preparation"
   ],
   "cell_type": "markdown",
   "metadata": {}
  },
  {
   "cell_type": "code",
   "execution_count": 5,
   "metadata": {},
   "outputs": [],
   "source": [
    "numerical_features = [column for column in df.columns if df[column].dtype in [np.int64]]\n",
    "X = df[numerical_features]\n",
    "y = df['Man of the Match'].astype('category').cat.codes  # Convert `Yes` to 1 and `No` to 0 label"
   ]
  },
  {
   "source": [
    "## Classification Model Construction"
   ],
   "cell_type": "markdown",
   "metadata": {}
  },
  {
   "cell_type": "code",
   "execution_count": 6,
   "metadata": {},
   "outputs": [
    {
     "output_type": "execute_result",
     "data": {
      "text/plain": [
       "RandomForestClassifier(n_estimators=50, random_state=76)"
      ]
     },
     "metadata": {},
     "execution_count": 6
    }
   ],
   "source": [
    "from sklearn.model_selection import train_test_split\n",
    "from sklearn.ensemble import RandomForestClassifier\n",
    "\n",
    "random_seed = 76\n",
    "\n",
    "X_train, X_test, y_train, y_test = train_test_split(X, y, test_size=0.5, random_state=random_seed)\n",
    "classifier = RandomForestClassifier(n_estimators=50, random_state=random_seed)\n",
    "classifier.fit(X_train, y_train)"
   ]
  },
  {
   "source": [
    "## Permutation Importance"
   ],
   "cell_type": "markdown",
   "metadata": {}
  },
  {
   "cell_type": "code",
   "execution_count": 7,
   "metadata": {},
   "outputs": [
    {
     "output_type": "execute_result",
     "data": {
      "text/plain": [
       "<IPython.core.display.HTML object>"
      ],
      "text/html": "\n    <style>\n    table.eli5-weights tr:hover {\n        filter: brightness(85%);\n    }\n</style>\n\n\n\n    \n\n    \n\n    \n\n    \n\n    \n\n    \n\n\n    \n\n    \n\n    \n\n    \n\n    \n\n    \n\n\n    \n\n    \n\n    \n\n    \n\n    \n        <table class=\"eli5-weights eli5-feature-importances\" style=\"border-collapse: collapse; border: none; margin-top: 0em; table-layout: auto;\">\n    <thead>\n    <tr style=\"border: none;\">\n        <th style=\"padding: 0 1em 0 0.5em; text-align: right; border: none;\">Weight</th>\n        <th style=\"padding: 0 0.5em 0 0.5em; text-align: left; border: none;\">Feature</th>\n    </tr>\n    </thead>\n    <tbody>\n    \n        <tr style=\"background-color: hsl(120, 100.00%, 80.00%); border: none;\">\n            <td style=\"padding: 0 1em 0 0.5em; text-align: right; border: none;\">\n                0.0750\n                \n                    &plusmn; 0.0776\n                \n            </td>\n            <td style=\"padding: 0 0.5em 0 0.5em; text-align: left; border: none;\">\n                Goal Scored\n            </td>\n        </tr>\n    \n        <tr style=\"background-color: hsl(120, 100.00%, 88.42%); border: none;\">\n            <td style=\"padding: 0 1em 0 0.5em; text-align: right; border: none;\">\n                0.0344\n                \n                    &plusmn; 0.0234\n                \n            </td>\n            <td style=\"padding: 0 0.5em 0 0.5em; text-align: left; border: none;\">\n                Blocked\n            </td>\n        </tr>\n    \n        <tr style=\"background-color: hsl(120, 100.00%, 92.42%); border: none;\">\n            <td style=\"padding: 0 1em 0 0.5em; text-align: right; border: none;\">\n                0.0187\n                \n                    &plusmn; 0.0125\n                \n            </td>\n            <td style=\"padding: 0 0.5em 0 0.5em; text-align: left; border: none;\">\n                Pass Accuracy %\n            </td>\n        </tr>\n    \n        <tr style=\"background-color: hsl(120, 100.00%, 93.33%); border: none;\">\n            <td style=\"padding: 0 1em 0 0.5em; text-align: right; border: none;\">\n                0.0156\n                \n                    &plusmn; 0.0198\n                \n            </td>\n            <td style=\"padding: 0 0.5em 0 0.5em; text-align: left; border: none;\">\n                Saves\n            </td>\n        </tr>\n    \n        <tr style=\"background-color: hsl(120, 100.00%, 94.29%); border: none;\">\n            <td style=\"padding: 0 1em 0 0.5em; text-align: right; border: none;\">\n                0.0125\n                \n                    &plusmn; 0.0364\n                \n            </td>\n            <td style=\"padding: 0 0.5em 0 0.5em; text-align: left; border: none;\">\n                Ball Possession %\n            </td>\n        </tr>\n    \n        <tr style=\"background-color: hsl(120, 100.00%, 97.84%); border: none;\">\n            <td style=\"padding: 0 1em 0 0.5em; text-align: right; border: none;\">\n                0.0031\n                \n                    &plusmn; 0.0306\n                \n            </td>\n            <td style=\"padding: 0 0.5em 0 0.5em; text-align: left; border: none;\">\n                Corners\n            </td>\n        </tr>\n    \n        <tr style=\"background-color: hsl(0, 100.00%, 100.00%); border: none;\">\n            <td style=\"padding: 0 1em 0 0.5em; text-align: right; border: none;\">\n                0\n                \n                    &plusmn; 0.0000\n                \n            </td>\n            <td style=\"padding: 0 0.5em 0 0.5em; text-align: left; border: none;\">\n                Red\n            </td>\n        </tr>\n    \n        <tr style=\"background-color: hsl(0, 100.00%, 100.00%); border: none;\">\n            <td style=\"padding: 0 1em 0 0.5em; text-align: right; border: none;\">\n                0\n                \n                    &plusmn; 0.0000\n                \n            </td>\n            <td style=\"padding: 0 0.5em 0 0.5em; text-align: left; border: none;\">\n                Goals in PSO\n            </td>\n        </tr>\n    \n        <tr style=\"background-color: hsl(0, 100.00%, 100.00%); border: none;\">\n            <td style=\"padding: 0 1em 0 0.5em; text-align: right; border: none;\">\n                0\n                \n                    &plusmn; 0.0000\n                \n            </td>\n            <td style=\"padding: 0 0.5em 0 0.5em; text-align: left; border: none;\">\n                Yellow &amp; Red\n            </td>\n        </tr>\n    \n        <tr style=\"background-color: hsl(0, 100.00%, 97.84%); border: none;\">\n            <td style=\"padding: 0 1em 0 0.5em; text-align: right; border: none;\">\n                -0.0031\n                \n                    &plusmn; 0.0125\n                \n            </td>\n            <td style=\"padding: 0 0.5em 0 0.5em; text-align: left; border: none;\">\n                Offsides\n            </td>\n        </tr>\n    \n        <tr style=\"background-color: hsl(0, 100.00%, 95.33%); border: none;\">\n            <td style=\"padding: 0 1em 0 0.5em; text-align: right; border: none;\">\n                -0.0094\n                \n                    &plusmn; 0.0250\n                \n            </td>\n            <td style=\"padding: 0 0.5em 0 0.5em; text-align: left; border: none;\">\n                Passes\n            </td>\n        </tr>\n    \n        <tr style=\"background-color: hsl(0, 100.00%, 95.33%); border: none;\">\n            <td style=\"padding: 0 1em 0 0.5em; text-align: right; border: none;\">\n                -0.0094\n                \n                    &plusmn; 0.0250\n                \n            </td>\n            <td style=\"padding: 0 0.5em 0 0.5em; text-align: left; border: none;\">\n                Attempts\n            </td>\n        </tr>\n    \n        <tr style=\"background-color: hsl(0, 100.00%, 94.29%); border: none;\">\n            <td style=\"padding: 0 1em 0 0.5em; text-align: right; border: none;\">\n                -0.0125\n                \n                    &plusmn; 0.0234\n                \n            </td>\n            <td style=\"padding: 0 0.5em 0 0.5em; text-align: left; border: none;\">\n                Fouls Committed\n            </td>\n        </tr>\n    \n        <tr style=\"background-color: hsl(0, 100.00%, 94.29%); border: none;\">\n            <td style=\"padding: 0 1em 0 0.5em; text-align: right; border: none;\">\n                -0.0125\n                \n                    &plusmn; 0.0125\n                \n            </td>\n            <td style=\"padding: 0 0.5em 0 0.5em; text-align: left; border: none;\">\n                Yellow Card\n            </td>\n        </tr>\n    \n        <tr style=\"background-color: hsl(0, 100.00%, 93.33%); border: none;\">\n            <td style=\"padding: 0 1em 0 0.5em; text-align: right; border: none;\">\n                -0.0156\n                \n                    &plusmn; 0.0000\n                \n            </td>\n            <td style=\"padding: 0 0.5em 0 0.5em; text-align: left; border: none;\">\n                Off-Target\n            </td>\n        </tr>\n    \n        <tr style=\"background-color: hsl(0, 100.00%, 93.33%); border: none;\">\n            <td style=\"padding: 0 1em 0 0.5em; text-align: right; border: none;\">\n                -0.0156\n                \n                    &plusmn; 0.0342\n                \n            </td>\n            <td style=\"padding: 0 0.5em 0 0.5em; text-align: left; border: none;\">\n                Free Kicks\n            </td>\n        </tr>\n    \n        <tr style=\"background-color: hsl(0, 100.00%, 91.56%); border: none;\">\n            <td style=\"padding: 0 1em 0 0.5em; text-align: right; border: none;\">\n                -0.0219\n                \n                    &plusmn; 0.0153\n                \n            </td>\n            <td style=\"padding: 0 0.5em 0 0.5em; text-align: left; border: none;\">\n                Distance Covered (Kms)\n            </td>\n        </tr>\n    \n        <tr style=\"background-color: hsl(0, 100.00%, 84.94%); border: none;\">\n            <td style=\"padding: 0 1em 0 0.5em; text-align: right; border: none;\">\n                -0.0500\n                \n                    &plusmn; 0.0538\n                \n            </td>\n            <td style=\"padding: 0 0.5em 0 0.5em; text-align: left; border: none;\">\n                On-Target\n            </td>\n        </tr>\n    \n    \n    </tbody>\n</table>\n    \n\n    \n\n\n    \n\n    \n\n    \n\n    \n\n    \n\n    \n\n\n\n"
     },
     "metadata": {},
     "execution_count": 7
    }
   ],
   "source": [
    "import eli5\n",
    "from eli5.sklearn import PermutationImportance\n",
    "\n",
    "permutation = PermutationImportance(classifier, random_state=random_seed).fit(X_test, y_test)\n",
    "eli5.show_weights(permutation, feature_names=X_test.columns.tolist())"
   ]
  }
 ],
 "metadata": {
  "kernelspec": {
   "display_name": "Python 3",
   "language": "python",
   "name": "python3"
  },
  "language_info": {
   "codemirror_mode": {
    "name": "ipython",
    "version": 3
   },
   "file_extension": ".py",
   "mimetype": "text/x-python",
   "name": "python",
   "nbconvert_exporter": "python",
   "pygments_lexer": "ipython3",
   "version": "3.8.7-final"
  }
 },
 "nbformat": 4,
 "nbformat_minor": 4
}